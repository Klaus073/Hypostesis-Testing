{
 "cells": [
  {
   "cell_type": "code",
   "execution_count": 1,
   "id": "b7a1c153",
   "metadata": {},
   "outputs": [],
   "source": [
    "import pandas as pd\n",
    "import numpy as np\n",
    "import math"
   ]
  },
  {
   "cell_type": "code",
   "execution_count": 2,
   "id": "00ccc657",
   "metadata": {},
   "outputs": [],
   "source": [
    "measurements=[176,167,174,179,179,187,179,183,179,156,163,156,187,156,167,156,174,170,183,179,174,179,170,159]"
   ]
  },
  {
   "cell_type": "code",
   "execution_count": 3,
   "id": "1af2d8d3",
   "metadata": {},
   "outputs": [],
   "source": [
    "dfm=pd.DataFrame(list(measurements),columns=[\"data\"])"
   ]
  },
  {
   "cell_type": "markdown",
   "id": "189d0654",
   "metadata": {},
   "source": [
    "dfm"
   ]
  },
  {
   "cell_type": "code",
   "execution_count": 4,
   "id": "c7dd3c4c",
   "metadata": {},
   "outputs": [
    {
     "data": {
      "text/plain": [
       "(172.16666666666666, 10.098069839962172)"
      ]
     },
     "execution_count": 4,
     "metadata": {},
     "output_type": "execute_result"
    }
   ],
   "source": [
    "mean=dfm[\"data\"].mean()\n",
    "std=dfm[\"data\"].std()\n",
    "mean,std"
   ]
  },
  {
   "cell_type": "code",
   "execution_count": null,
   "id": "0d4049ee",
   "metadata": {},
   "outputs": [],
   "source": []
  },
  {
   "cell_type": "code",
   "execution_count": 5,
   "id": "10a6e2ec",
   "metadata": {},
   "outputs": [
    {
     "data": {
      "text/plain": [
       "1.051137070775117"
      ]
     },
     "execution_count": 5,
     "metadata": {},
     "output_type": "execute_result"
    }
   ],
   "source": [
    "z=(mean-170)/(std/math.sqrt(len(measurements)))\n",
    "z"
   ]
  },
  {
   "cell_type": "markdown",
   "id": "72183ceb",
   "metadata": {},
   "source": [
    "# Practice for - Hypostesis Testing Using Z-Test \n"
   ]
  },
  {
   "cell_type": "code",
   "execution_count": 7,
   "id": "44eb9a80",
   "metadata": {},
   "outputs": [],
   "source": [
    "from numpy.random import randn\n",
    "from statsmodels.stats.weightstats import ztest\n"
   ]
  },
  {
   "cell_type": "code",
   "execution_count": 21,
   "id": "4a7b28d5",
   "metadata": {},
   "outputs": [],
   "source": [
    "ztest_Score, p_value= ztest(dfm[\"data\"],x2=None, value=146)"
   ]
  },
  {
   "cell_type": "code",
   "execution_count": 22,
   "id": "2dc7ab6a",
   "metadata": {},
   "outputs": [
    {
     "data": {
      "text/plain": [
       "(12.69450154705339, 6.34325112471582e-37)"
      ]
     },
     "execution_count": 22,
     "metadata": {},
     "output_type": "execute_result"
    }
   ],
   "source": [
    "ztest_Score, p_value\n"
   ]
  },
  {
   "cell_type": "code",
   "execution_count": 16,
   "id": "249cce47",
   "metadata": {},
   "outputs": [
    {
     "name": "stdout",
     "output_type": "stream",
     "text": [
      "6.34325112471582e-37\n",
      "Null hyphothesis rejected , Alternative hyphothesis accepted\n"
     ]
    }
   ],
   "source": [
    "print(float(p_value))\n",
    "if p_value<0.05:\n",
    "    print(\"Null hyphothesis rejected , Alternative hyphothesis accepted\")\n",
    "else:\n",
    "    print(\"Null hyphothesis accepted , Alternative hyphothesis rejected\")"
   ]
  },
  {
   "cell_type": "markdown",
   "id": "eb05b610",
   "metadata": {},
   "source": [
    "# Z-Test for proportion data"
   ]
  },
  {
   "cell_type": "code",
   "execution_count": 38,
   "id": "fb6509f8",
   "metadata": {},
   "outputs": [],
   "source": [
    "from statsmodels.stats.proportion import proportions_ztest\n",
    "import numpy as np\n"
   ]
  },
  {
   "cell_type": "code",
   "execution_count": 39,
   "id": "3aa52f25",
   "metadata": {},
   "outputs": [],
   "source": [
    "model_true=75\n",
    "model_total=100\n",
    "\n",
    "human_true=80\n",
    "human_total=100\n",
    "\n",
    "alpha = 0.5\n",
    "\n"
   ]
  },
  {
   "cell_type": "code",
   "execution_count": 40,
   "id": "17489b86",
   "metadata": {},
   "outputs": [
    {
     "data": {
      "text/plain": [
       "(0.75, 0.8)"
      ]
     },
     "execution_count": 40,
     "metadata": {},
     "output_type": "execute_result"
    }
   ],
   "source": [
    "model_proportion = model_true/model_total\n",
    "human_proportion = human_true/human_total\n",
    "\n",
    "model_proportion,human_proportion"
   ]
  },
  {
   "cell_type": "code",
   "execution_count": 41,
   "id": "8b0ac9b4",
   "metadata": {},
   "outputs": [
    {
     "data": {
      "text/plain": [
       "(array([75, 80]), array([100, 100]))"
      ]
     },
     "execution_count": 41,
     "metadata": {},
     "output_type": "execute_result"
    }
   ],
   "source": [
    "count = np.array([model_true,human_true])\n",
    "nobs = np.array([model_total,human_total])\n",
    "\n",
    "count,nobs"
   ]
  },
  {
   "cell_type": "code",
   "execution_count": 44,
   "id": "0db2e4e1",
   "metadata": {},
   "outputs": [],
   "source": [
    "z_stats , p_stats = proportions_ztest(count,nobs)"
   ]
  },
  {
   "cell_type": "code",
   "execution_count": 46,
   "id": "dce4e562",
   "metadata": {},
   "outputs": [
    {
     "data": {
      "text/plain": [
       "(-0.8466675133346041, 0.39718047121991973)"
      ]
     },
     "execution_count": 46,
     "metadata": {},
     "output_type": "execute_result"
    }
   ],
   "source": [
    "z_stats,p_stats"
   ]
  },
  {
   "cell_type": "code",
   "execution_count": 47,
   "id": "7475ea9e",
   "metadata": {},
   "outputs": [
    {
     "name": "stdout",
     "output_type": "stream",
     "text": [
      "Reject the null hypothesis. There is a significant difference.\n"
     ]
    }
   ],
   "source": [
    "if p_stats < alpha:\n",
    "    print(\"Reject the null hypothesis. There is a significant difference.\")\n",
    "else:\n",
    "    print(\"Fail to reject the null hypothesis. There is no significant difference.\")"
   ]
  },
  {
   "cell_type": "markdown",
   "id": "8ad68b94",
   "metadata": {},
   "source": [
    "#  Two Sampled T-Test "
   ]
  },
  {
   "cell_type": "code",
   "execution_count": 9,
   "id": "87ac76d9",
   "metadata": {},
   "outputs": [
    {
     "name": "stdout",
     "output_type": "stream",
     "text": [
      "[0, 0, 2, 1, 1, 1, 0, 0, 3, 0, 0, 0, 1, 1, 0, 1, 3, 1, 3, 2]\n",
      "[0, 1, 3, 2, 2, 1, 1, 2, 0, 0, 3, 0, 2, 2, 2, 0, 3, 0, 3, 0]\n"
     ]
    }
   ],
   "source": [
    "import random\n",
    "\n",
    "random.seed(42)  # Set the random seed for reproducibility\n",
    "\n",
    "# Generate two lists of random numbers ranging from 0 to 3 with a size of 20\n",
    "model = [random.randint(0, 3) for _ in range(20)]\n",
    "grader = [random.randint(0, 3) for _ in range(20)]\n",
    "\n",
    "print(model)\n",
    "print(grader)\n"
   ]
  },
  {
   "cell_type": "code",
   "execution_count": 10,
   "id": "a6eec16a",
   "metadata": {},
   "outputs": [],
   "source": [
    "from scipy.stats import ttest_ind\n"
   ]
  },
  {
   "cell_type": "code",
   "execution_count": 11,
   "id": "663d5a67",
   "metadata": {},
   "outputs": [],
   "source": [
    "t_stat , p_stat = ttest_ind(model , grader , alternative='greater')"
   ]
  },
  {
   "cell_type": "code",
   "execution_count": 12,
   "id": "408f311e",
   "metadata": {},
   "outputs": [
    {
     "data": {
      "text/plain": [
       "(-0.9791860677643504, 0.83315939698075)"
      ]
     },
     "execution_count": 12,
     "metadata": {},
     "output_type": "execute_result"
    }
   ],
   "source": [
    "t_stat , p_stat"
   ]
  },
  {
   "cell_type": "code",
   "execution_count": 13,
   "id": "27036cf6",
   "metadata": {},
   "outputs": [],
   "source": [
    "alpha = 0.05"
   ]
  },
  {
   "cell_type": "code",
   "execution_count": 14,
   "id": "704dde39",
   "metadata": {},
   "outputs": [
    {
     "name": "stdout",
     "output_type": "stream",
     "text": [
      "Fail to reject the null hypothesis. There is no significant differe\n"
     ]
    }
   ],
   "source": [
    "if p_stat < alpha:\n",
    "    print(\"Reject the null hypothesis. There is a significant difference.\")\n",
    "else:\n",
    "    print(\"Fail to reject the null hypothesis. There is no significant differe\")"
   ]
  },
  {
   "cell_type": "markdown",
   "id": "fae36886",
   "metadata": {},
   "source": [
    "# 95% confidence using t-distribution"
   ]
  },
  {
   "cell_type": "code",
   "execution_count": 22,
   "id": "31fc406c",
   "metadata": {},
   "outputs": [],
   "source": [
    "from scipy.stats import ttest_1samp\n",
    "import scipy.stats as st\n",
    "import numpy as np"
   ]
  },
  {
   "cell_type": "code",
   "execution_count": 23,
   "id": "3507a667",
   "metadata": {},
   "outputs": [
    {
     "name": "stdout",
     "output_type": "stream",
     "text": [
      "[0, 0, 2, 1, 1, 1, 0, 0, 3, 0, 0, 0, 1, 1, 0, 1, 3, 1, 3, 2]\n",
      "[0, 1, 3, 2, 2, 1, 1, 2, 0, 0, 3, 0, 2, 2, 2, 0, 3, 0, 3, 0]\n"
     ]
    }
   ],
   "source": [
    "print(model)\n",
    "print(grader)\n"
   ]
  },
  {
   "cell_type": "code",
   "execution_count": 24,
   "id": "3d757ce2",
   "metadata": {},
   "outputs": [
    {
     "name": "stdout",
     "output_type": "stream",
     "text": [
      "T-statistic value:  -640.0312492370978\n",
      "P-Value:  1.2218166970669675e-42\n"
     ]
    }
   ],
   "source": [
    "t_stat, p_value = ttest_1samp(model, popmean=155)\n",
    "print(\"T-statistic value: \", t_stat)  \n",
    "print(\"P-Value: \", p_value)"
   ]
  },
  {
   "cell_type": "code",
   "execution_count": 25,
   "id": "1e20e47a",
   "metadata": {},
   "outputs": [
    {
     "name": "stderr",
     "output_type": "stream",
     "text": [
      "C:\\Users\\nauman.tasawar\\AppData\\Local\\Temp\\ipykernel_6044\\4288993982.py:2: DeprecationWarning: Use of keyword argument 'alpha' for method 'interval' is deprecated and wil be removed in SciPy 1.11.0. Use first positional argument or keyword argument 'confidence' instead.\n",
      "  st.t.interval(alpha=0.95, df=len(model)-1, loc=np.mean(model), scale=st.sem(model))\n"
     ]
    },
    {
     "data": {
      "text/plain": [
       "(0.4963906766066858, 1.5036093233933143)"
      ]
     },
     "execution_count": 25,
     "metadata": {},
     "output_type": "execute_result"
    }
   ],
   "source": [
    "#create 95% confidence interval for population mean weight\n",
    "st.t.interval(alpha=0.95, df=len(model)-1, loc=np.mean(model), scale=st.sem(model)) "
   ]
  },
  {
   "cell_type": "code",
   "execution_count": 19,
   "id": "bebc164b",
   "metadata": {},
   "outputs": [
    {
     "name": "stdout",
     "output_type": "stream",
     "text": [
      "T-statistic value:  -581.2889939940429\n",
      "P-Value:  7.60921497790419e-42\n"
     ]
    }
   ],
   "source": [
    "t_stat, p_value = ttest_1samp(grader, popmean=155)\n",
    "print(\"T-statistic value: \", t_stat)  \n",
    "print(\"P-Value: \", p_value)"
   ]
  },
  {
   "cell_type": "code",
   "execution_count": 26,
   "id": "2ffcfa24",
   "metadata": {},
   "outputs": [
    {
     "name": "stderr",
     "output_type": "stream",
     "text": [
      "C:\\Users\\nauman.tasawar\\AppData\\Local\\Temp\\ipykernel_6044\\4219979303.py:2: DeprecationWarning: Use of keyword argument 'alpha' for method 'interval' is deprecated and wil be removed in SciPy 1.11.0. Use first positional argument or keyword argument 'confidence' instead.\n",
      "  st.t.interval(alpha=0.95, df=len(grader)-1, loc=np.mean(grader), scale=st.sem(grader))\n"
     ]
    },
    {
     "data": {
      "text/plain": [
       "(0.7967585843142159, 1.9032414156857844)"
      ]
     },
     "execution_count": 26,
     "metadata": {},
     "output_type": "execute_result"
    }
   ],
   "source": [
    "#create 95% confidence interval for population mean weight\n",
    "st.t.interval(alpha=0.95, df=len(grader)-1, loc=np.mean(grader), scale=st.sem(grader)) "
   ]
  },
  {
   "cell_type": "code",
   "execution_count": null,
   "id": "420ae857",
   "metadata": {},
   "outputs": [],
   "source": []
  }
 ],
 "metadata": {
  "kernelspec": {
   "display_name": "Python 3 (ipykernel)",
   "language": "python",
   "name": "python3"
  },
  "language_info": {
   "codemirror_mode": {
    "name": "ipython",
    "version": 3
   },
   "file_extension": ".py",
   "mimetype": "text/x-python",
   "name": "python",
   "nbconvert_exporter": "python",
   "pygments_lexer": "ipython3",
   "version": "3.11.3"
  }
 },
 "nbformat": 4,
 "nbformat_minor": 5
}
